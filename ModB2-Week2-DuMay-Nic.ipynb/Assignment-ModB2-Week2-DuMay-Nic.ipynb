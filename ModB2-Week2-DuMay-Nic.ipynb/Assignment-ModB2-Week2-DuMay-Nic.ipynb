{
 "cells": [
  {
   "cell_type": "markdown",
   "id": "5190b54c-d49c-4d6f-80cc-22555336a9cd",
   "metadata": {},
   "source": [
    "# Week 2 - Preprocessing, part 2\n",
    "\n",
    "# 1. Lesson: None"
   ]
  },
  {
   "cell_type": "markdown",
   "id": "47c4e5ff-b05f-4ef2-96f1-49dcb5beb158",
   "metadata": {},
   "source": [
    "# 2. Weekly graph question"
   ]
  },
  {
   "cell_type": "markdown",
   "id": "aad37e29-6e84-41fa-886d-abc1312213ab",
   "metadata": {},
   "source": [
    "The Storytelling With Data book mentions planning on a \"Who, What, and How\" for your data story.  Write down a possible Who, What, and How for your data, using the ideas in the book."
   ]
  },
  {
   "cell_type": "code",
   "execution_count": 1,
   "id": "c862fc32-1297-4587-b9da-4b0642ab3e6e",
   "metadata": {},
   "outputs": [],
   "source": [
    "# Who, What, and How Summary for Manufacturing Defects Dataset\n",
    "\n",
    "# Who: The primary audience is the quality control team and manufacturing managers, but may include other audiences such as\n",
    "# various levels of decision-makers/leadership in order to make the proper investments to subvert costs or increase revenew.\n",
    "# They need insights into defect trends to improve production efficiency and reduce waste.\n",
    "\n",
    "# What: The key takeaway is to identify the most common manufacturing defects,\n",
    "# analyze defect rates over time, and determine any patterns related to specific production lines or shifts.\n",
    "# This will help managers implement targeted quality control measures.\n",
    "\n",
    "# How: The best way to present this information is through:\n",
    "# - Bar charts to show defect frequency by type.\n",
    "# - Line graphs to track defect rates over time.\n",
    "# - Heatmaps to highlight high-defect areas in different production stages.\n",
    "# - Scatter plots to visualize defect types by production line or shift.\n"
   ]
  },
  {
   "cell_type": "markdown",
   "id": "2d63d8c2",
   "metadata": {},
   "source": [
    "This week, you will do the same types of exercises as last week, but you should use your own datasets that you found last semester.\n",
    "\n",
    "### Here are some types of analysis you can do  Use Google, documentation, and ChatGPT to help you:\n",
    "\n",
    "- Summarize the datasets using info() and describe()\n",
    "\n",
    "- Are there any duplicate rows?\n",
    "\n",
    "- Are there any duplicate values in a given column (when this would be inappropriate?)\n",
    "\n",
    "- What are the mean, median, and mode of each column?\n",
    "\n",
    "- Are there any missing or null values?\n",
    "\n",
    "    - Do you want to fill in the missing value with a mean value?  A value of your choice?  Remove that row?\n",
    "\n",
    "- Identify any other inconsistent data (e.g. someone seems to be taking an action before they are born.)\n",
    "\n",
    "- Encode any categorical variables (e.g. with one-hot encoding.)\n",
    "\n",
    "### Conclusions:\n",
    "\n",
    "- Are the data usable?  If not, find some new data!\n",
    "\n",
    "- Do you need to modify or correct the data in some way?\n",
    "\n",
    "- Is there any class imbalance?  (Categories that have many more items than other categories)."
   ]
  },
  {
   "cell_type": "markdown",
   "id": "898eb327-aefd-4ac0-b95a-92b616a2181b",
   "metadata": {},
   "source": [
    "# 3. Homework - work with your own data"
   ]
  },
  {
   "cell_type": "markdown",
   "id": "23391223",
   "metadata": {},
   "source": [
    "### 3a. Data Collection, Pre-Processing, Processing, & Mining"
   ]
  },
  {
   "cell_type": "code",
   "execution_count": 1,
   "id": "fe925521-979f-4983-8d85-8db8d1316e99",
   "metadata": {},
   "outputs": [],
   "source": [
    "import pandas as pd\n",
    "import numpy as np\n",
    "import matplotlib.pyplot as plt\n",
    "import seaborn as sns\n",
    "import sys\n",
    "import re\n",
    "import random\n",
    "import io\n",
    "from datetime import datetime, timedelta"
   ]
  },
  {
   "cell_type": "code",
   "execution_count": 5,
   "id": "27018ef2",
   "metadata": {},
   "outputs": [
    {
     "name": "stdout",
     "output_type": "stream",
     "text": [
      "Dataset URL: https://www.kaggle.com/datasets/fahmidachowdhury/manufacturing-defects\n"
     ]
    }
   ],
   "source": [
    "# API to download the dataset from Kaggle\n",
    "# I wanted a way to pull the data from Kaggle without having to download the dataset manually. \n",
    "# I logged into my Kaggle account and generated an API token.\n",
    "# I leveraged ChatGPT to determine the best way to download the dataset leveraging the Kaggle API.\n",
    "\n",
    "from kaggle.api.kaggle_api_extended import KaggleApi\n",
    "import os\n",
    "import zipfile\n",
    "\n",
    "# Initialize and authenticate the API\n",
    "api = KaggleApi()\n",
    "api.authenticate()\n",
    "\n",
    "# Define the dataset\n",
    "dataset = 'fahmidachowdhury/manufacturing-defects'\n",
    "\n",
    "# Download the entire dataset as a zip file\n",
    "api.dataset_download_files(dataset, path='.', unzip=True)\n",
    "\n",
    "# Find the correct CSV filename\n",
    "for file in os.listdir('.'):\n",
    "    if file.endswith('.csv'):\n",
    "        csv_filename = file\n",
    "        break\n",
    "\n",
    "# Load the dataset into a Pandas DataFrame\n",
    "df_defects = pd.read_csv(\"defects_data.csv\")\n"
   ]
  },
  {
   "cell_type": "code",
   "execution_count": 6,
   "id": "36862113",
   "metadata": {},
   "outputs": [
    {
     "name": "stdout",
     "output_type": "stream",
     "text": [
      "Initial Data Preview:\n",
      "   defect_id  product_id defect_type defect_date defect_location  severity  \\\n",
      "0          1          15  Structural    6/6/2024       Component     Minor   \n",
      "1          2           6  Functional   4/26/2024       Component     Minor   \n",
      "2          3          84  Structural   2/15/2024        Internal     Minor   \n",
      "3          4          10  Functional   3/28/2024        Internal  Critical   \n",
      "4          5          14    Cosmetic   4/26/2024       Component     Minor   \n",
      "\n",
      "   inspection_method  repair_cost  \n",
      "0  Visual Inspection       245.47  \n",
      "1  Visual Inspection        26.87  \n",
      "2  Automated Testing       835.81  \n",
      "3  Automated Testing       444.47  \n",
      "4     Manual Testing       823.64  \n"
     ]
    }
   ],
   "source": [
    "# Step 1: Preview the Data\n",
    "\n",
    "# Display the first few rows of the DataFrame\n",
    "print(\"Initial Data Preview:\")\n",
    "print(df_defects.head())\n"
   ]
  },
  {
   "cell_type": "code",
   "execution_count": 7,
   "id": "2e8bb0e5",
   "metadata": {},
   "outputs": [
    {
     "name": "stdout",
     "output_type": "stream",
     "text": [
      "\n",
      "DataFrame Information:\n",
      "<class 'pandas.core.frame.DataFrame'>\n",
      "RangeIndex: 1000 entries, 0 to 999\n",
      "Data columns (total 8 columns):\n",
      " #   Column             Non-Null Count  Dtype  \n",
      "---  ------             --------------  -----  \n",
      " 0   defect_id          1000 non-null   int64  \n",
      " 1   product_id         1000 non-null   int64  \n",
      " 2   defect_type        1000 non-null   object \n",
      " 3   defect_date        1000 non-null   object \n",
      " 4   defect_location    1000 non-null   object \n",
      " 5   severity           1000 non-null   object \n",
      " 6   inspection_method  1000 non-null   object \n",
      " 7   repair_cost        1000 non-null   float64\n",
      "dtypes: float64(1), int64(2), object(5)\n",
      "memory usage: 62.6+ KB\n",
      "\n",
      "Summary Statistics:\n",
      "         defect_id   product_id  repair_cost\n",
      "count  1000.000000  1000.000000  1000.000000\n",
      "mean    500.500000    50.837000   507.627150\n",
      "std     288.819436    29.480935   289.623615\n",
      "min       1.000000     1.000000    10.220000\n",
      "25%     250.750000    26.000000   270.902500\n",
      "50%     500.500000    51.000000   506.430000\n",
      "75%     750.250000    77.000000   759.065000\n",
      "max    1000.000000   100.000000   999.640000\n",
      "\n",
      "Missing Values per Column:\n",
      "defect_id            0\n",
      "product_id           0\n",
      "defect_type          0\n",
      "defect_date          0\n",
      "defect_location      0\n",
      "severity             0\n",
      "inspection_method    0\n",
      "repair_cost          0\n",
      "dtype: int64\n"
     ]
    }
   ],
   "source": [
    "# Step 2: Inspect the Data\n",
    "\n",
    "# Display basic information about the DataFrame\n",
    "print(\"\\nDataFrame Information:\")\n",
    "df_defects.info()\n",
    "\n",
    "# Display summary statistics for numerical columns\n",
    "print(\"\\nSummary Statistics:\")\n",
    "print(df_defects.describe())\n",
    "\n",
    "# Display summary statistics (percentiles) for all columns\n",
    "df_defects.describe(percentiles=[0.25, 0.5, 0.75], include='all')\n",
    "\n",
    "# Display the number of missing values in each column\n",
    "print(\"\\nMissing Values per Column:\")\n",
    "print(df_defects.isnull().sum())"
   ]
  },
  {
   "cell_type": "code",
   "execution_count": 59,
   "id": "64820782",
   "metadata": {},
   "outputs": [
    {
     "name": "stdout",
     "output_type": "stream",
     "text": [
      "<class 'pandas.core.frame.DataFrame'>\n",
      "RangeIndex: 1000 entries, 0 to 999\n",
      "Data columns (total 9 columns):\n",
      " #   Column             Non-Null Count  Dtype         \n",
      "---  ------             --------------  -----         \n",
      " 0   defect_id          1000 non-null   int64         \n",
      " 1   product_id         1000 non-null   int64         \n",
      " 2   defect_type        1000 non-null   object        \n",
      " 3   defect_date        1000 non-null   datetime64[ns]\n",
      " 4   defect_location    1000 non-null   object        \n",
      " 5   severity           1000 non-null   object        \n",
      " 6   inspection_method  1000 non-null   object        \n",
      " 7   repair_cost        1000 non-null   float64       \n",
      " 8   Month_Year         1000 non-null   period[M]     \n",
      "dtypes: datetime64[ns](1), float64(1), int64(2), object(4), period[M](1)\n",
      "memory usage: 70.4+ KB\n"
     ]
    }
   ],
   "source": [
    "df_defects_datefix = df_defects.copy()  # Create a separate copy\n",
    "df_defects['defect_date'] = pd.to_datetime(df_defects['defect_date'], format='%m/%d/%Y', errors='coerce')\n",
    "df_defects_datefix['Month_Year'] = df_defects_datefix['defect_date'].dt.to_period('M')\n",
    "df_defects_datefix.info()"
   ]
  },
  {
   "cell_type": "code",
   "execution_count": 71,
   "id": "c303edb8",
   "metadata": {},
   "outputs": [
    {
     "name": "stdout",
     "output_type": "stream",
     "text": [
      "Checking for NaN values:\n",
      "defect_id            0\n",
      "product_id           0\n",
      "defect_type          0\n",
      "defect_date          0\n",
      "defect_location      0\n",
      "severity             0\n",
      "inspection_method    0\n",
      "repair_cost          0\n",
      "Month_Year           0\n",
      "dtype: int64\n"
     ]
    }
   ],
   "source": [
    "# Identify columns that may have empty strings or whitespace instead of NaN\n",
    "print(\"Checking for NaN values:\")\n",
    "print(df_defects_datefix.isnull().sum())  # Standard check"
   ]
  },
  {
   "cell_type": "code",
   "execution_count": 66,
   "id": "d84969b5",
   "metadata": {},
   "outputs": [
    {
     "name": "stdout",
     "output_type": "stream",
     "text": [
      "\n",
      "Checking for empty strings in each column:\n",
      "defect_id            0\n",
      "product_id           0\n",
      "defect_type          0\n",
      "defect_date          0\n",
      "defect_location      0\n",
      "severity             0\n",
      "inspection_method    0\n",
      "repair_cost          0\n",
      "Month_Year           0\n",
      "dtype: int64\n"
     ]
    }
   ],
   "source": [
    "# Check for empty strings (\"\")\n",
    "print(\"\\nChecking for empty strings in each column:\")\n",
    "print((df_defects_datefix == \"\").sum())"
   ]
  },
  {
   "cell_type": "code",
   "execution_count": 68,
   "id": "3bc2e3a7",
   "metadata": {},
   "outputs": [
    {
     "name": "stdout",
     "output_type": "stream",
     "text": [
      "\n",
      "Checking for whitespace-only values:\n",
      "defect_id            0\n",
      "product_id           0\n",
      "defect_type          0\n",
      "defect_date          0\n",
      "defect_location      0\n",
      "severity             0\n",
      "inspection_method    0\n",
      "repair_cost          0\n",
      "Month_Year           0\n",
      "dtype: int64\n"
     ]
    }
   ],
   "source": [
    "# Check for whitespace-only strings\n",
    "print(\"\\nChecking for whitespace-only values:\")\n",
    "print((df_defects_datefix.map(lambda x: isinstance(x, str) and x.strip() == \"\")).sum())"
   ]
  },
  {
   "cell_type": "code",
   "execution_count": 83,
   "id": "f27f50d9",
   "metadata": {},
   "outputs": [],
   "source": [
    "# Drop rows where any column has NaN\n",
    "#df_defects_datefix = df_defects_datefix.dropna()\n",
    "\n",
    "# Fill Nans with \"Unknown\"\n",
    "df_defects_datefix = df_defects_datefix.fillna({\n",
    "    \"defect_location\": \"Unknown\",\n",
    "    \"defect_type\": \"Unknown\",\n",
    "    \"inspection_method\": \"Unknown\"\n",
    "})\n"
   ]
  },
  {
   "cell_type": "code",
   "execution_count": 33,
   "id": "adac6759",
   "metadata": {},
   "outputs": [
    {
     "name": "stdout",
     "output_type": "stream",
     "text": [
      "No duplicate rows found.\n"
     ]
    }
   ],
   "source": [
    "# Find exact duplicate rows (considering all columns)\n",
    "duplicate_rows = df_defects_datefix[df_defects_datefix.duplicated(keep=False)]\n",
    "\n",
    "# Display duplicate rows if found\n",
    "if not duplicate_rows.empty:\n",
    "    print(\"Duplicate rows found:\")\n",
    "    print(duplicate_rows)\n",
    "    duplicate_rows.to_csv(\"duplicate_rows.csv\", index=False)\n",
    "    print(\"Duplicate rows saved as 'duplicate_rows.csv'.\")\n",
    "else:\n",
    "    print(\"No duplicate rows found.\")\n"
   ]
  },
  {
   "cell_type": "code",
   "execution_count": 36,
   "id": "e26385e7",
   "metadata": {},
   "outputs": [
    {
     "name": "stdout",
     "output_type": "stream",
     "text": [
      "defect_type  Cosmetic  Functional  Structural\n",
      "Month_Year                                   \n",
      "2024-01            65          56          70\n",
      "2024-02            47          55          58\n",
      "2024-03            46          67          62\n",
      "2024-04            49          52          55\n",
      "2024-05            57          66          44\n",
      "2024-06            45          43          63\n"
     ]
    }
   ],
   "source": [
    "# Pivot table: Count defect_id by defect_type per Month/Year\n",
    "pivot_defects_type = df_defects_datefix.pivot_table(\n",
    "    index='Month_Year', \n",
    "    columns='defect_type', \n",
    "    values='defect_id', \n",
    "    aggfunc='count'\n",
    ")\n",
    "print(pivot_defects_type)"
   ]
  },
  {
   "cell_type": "code",
   "execution_count": 42,
   "id": "a95e99df",
   "metadata": {},
   "outputs": [
    {
     "name": "stdout",
     "output_type": "stream",
     "text": [
      "            repair_cost\n",
      "Month_Year             \n",
      "2024-01        95978.43\n",
      "2024-02        83259.84\n",
      "2024-03        91806.75\n",
      "2024-04        76153.46\n",
      "2024-05        83841.50\n",
      "2024-06        76587.17\n"
     ]
    }
   ],
   "source": [
    "# Pivot table: Sum repair_cost per product_id per Month/Year\n",
    "pivot_costs_product = df_defects_datefix.pivot_table(\n",
    "    index='Month_Year', \n",
    "    values='repair_cost', \n",
    "    aggfunc='sum'\n",
    ")\n",
    "print(pivot_costs_product)"
   ]
  },
  {
   "cell_type": "code",
   "execution_count": 40,
   "id": "ebf3f531",
   "metadata": {},
   "outputs": [
    {
     "name": "stdout",
     "output_type": "stream",
     "text": [
      "product_id\n",
      "81    0.020\n",
      "63    0.020\n",
      "97    0.019\n",
      "56    0.018\n",
      "4     0.016\n",
      "      ...  \n",
      "19    0.004\n",
      "89    0.004\n",
      "52    0.004\n",
      "85    0.004\n",
      "55    0.003\n",
      "Name: defect_id, Length: 100, dtype: float64\n"
     ]
    }
   ],
   "source": [
    "#Identifying Products with the Highest Defect Rates\n",
    "defect_rate = df_defects.groupby('product_id')['defect_id'].count() / len(df_defects)\n",
    "print(defect_rate.sort_values(ascending=False))"
   ]
  },
  {
   "cell_type": "code",
   "execution_count": 72,
   "id": "eb1631c1",
   "metadata": {},
   "outputs": [
    {
     "name": "stdout",
     "output_type": "stream",
     "text": [
      "defect_location\n",
      "Surface      353\n",
      "Component    326\n",
      "Internal     321\n",
      "Name: defect_id, dtype: int64\n"
     ]
    }
   ],
   "source": [
    "#Defect Count by Location\n",
    "location_analysis = df_defects.groupby('defect_location')['defect_id'].count()\n",
    "print(location_analysis.sort_values(ascending=False))"
   ]
  },
  {
   "cell_type": "code",
   "execution_count": 45,
   "id": "a9bb6399",
   "metadata": {},
   "outputs": [
    {
     "name": "stdout",
     "output_type": "stream",
     "text": [
      "product_id\n",
      "81    20\n",
      "63    20\n",
      "97    19\n",
      "56    18\n",
      "10    16\n",
      "Name: count, dtype: int64\n"
     ]
    }
   ],
   "source": [
    "#Top 5 Defective Products\n",
    "top_defective_products = df_defects['product_id'].value_counts().head(5)\n",
    "print(top_defective_products)"
   ]
  },
  {
   "cell_type": "code",
   "execution_count": 87,
   "id": "2e252791",
   "metadata": {},
   "outputs": [
    {
     "name": "stdout",
     "output_type": "stream",
     "text": [
      "   defect_id  product_id defect_date  repair_cost Month_Year  \\\n",
      "0          1          15  2024-06-06       245.47    2024-06   \n",
      "1          2           6  2024-04-26        26.87    2024-04   \n",
      "2          3          84  2024-02-15       835.81    2024-02   \n",
      "3          4          10  2024-03-28       444.47    2024-03   \n",
      "4          5          14  2024-04-26       823.64    2024-04   \n",
      "\n",
      "   defect_type_Cosmetic  defect_type_Functional  defect_type_Structural  \\\n",
      "0                     0                       0                       1   \n",
      "1                     0                       1                       0   \n",
      "2                     0                       0                       1   \n",
      "3                     0                       1                       0   \n",
      "4                     1                       0                       0   \n",
      "\n",
      "   defect_location_Component  defect_location_Internal  \\\n",
      "0                          1                         0   \n",
      "1                          1                         0   \n",
      "2                          0                         1   \n",
      "3                          0                         1   \n",
      "4                          1                         0   \n",
      "\n",
      "   defect_location_Surface  severity_Critical  severity_Minor  \\\n",
      "0                        0                  0               1   \n",
      "1                        0                  0               1   \n",
      "2                        0                  0               1   \n",
      "3                        0                  1               0   \n",
      "4                        0                  0               1   \n",
      "\n",
      "   severity_Moderate  inspection_method_Automated Testing  \\\n",
      "0                  0                                    0   \n",
      "1                  0                                    0   \n",
      "2                  0                                    1   \n",
      "3                  0                                    1   \n",
      "4                  0                                    0   \n",
      "\n",
      "   inspection_method_Manual Testing  inspection_method_Visual Inspection  \n",
      "0                                 0                                    1  \n",
      "1                                 0                                    1  \n",
      "2                                 0                                    0  \n",
      "3                                 0                                    0  \n",
      "4                                 1                                    0  \n"
     ]
    }
   ],
   "source": [
    "# Define categorical columns to encode\n",
    "categorical_columns = [\"defect_type\", \"defect_location\", \"severity\", \"inspection_method\"]\n",
    "\n",
    "# Perform one-hot encoding\n",
    "#df_defects_encoded = pd.get_dummies(df_defects_datefix, columns=categorical_columns, prefix=categorical_columns)\n",
    "\n",
    "# Perform one-hot encoding while ensuring the output is integer (0/1)\n",
    "df_defects_encoded = pd.get_dummies(df_defects_datefix, columns=categorical_columns, prefix=categorical_columns, dtype=int)\n",
    "\n",
    "# Display the first few rows\n",
    "print(df_defects_encoded.head())"
   ]
  },
  {
   "cell_type": "markdown",
   "id": "abab9e6d-18cc-4863-b980-3e52f581763a",
   "metadata": {},
   "source": [
    "# 4. Storytelling With Data graph"
   ]
  },
  {
   "cell_type": "markdown",
   "id": "1911148d-9df6-4b33-a875-8c96408ec834",
   "metadata": {},
   "source": [
    "Just like last week: choose any graph in the Introduction of Storytelling With Data. Use matplotlib to reproduce it in a rough way. I don't expect you to spend an enormous amount of time on this; I understand that you likely will not have time to re-create every feature of the graph. However, if you're excited about learning to use matplotlib, this is a good way to do that. You don't have to duplicate the exact values on the graph; just the same rough shape will be enough.  If you don't feel comfortable using matplotlib yet, do the best you can and write down what you tried or what Google searches you did to find the answers."
   ]
  },
  {
   "cell_type": "code",
   "execution_count": null,
   "id": "8b2888f9-3700-45ab-9829-6a5372106f9f",
   "metadata": {},
   "outputs": [],
   "source": []
  }
 ],
 "metadata": {
  "kernelspec": {
   "display_name": "Python 3",
   "language": "python",
   "name": "python3"
  },
  "language_info": {
   "codemirror_mode": {
    "name": "ipython",
    "version": 3
   },
   "file_extension": ".py",
   "mimetype": "text/x-python",
   "name": "python",
   "nbconvert_exporter": "python",
   "pygments_lexer": "ipython3",
   "version": "3.12.1"
  }
 },
 "nbformat": 4,
 "nbformat_minor": 5
}
